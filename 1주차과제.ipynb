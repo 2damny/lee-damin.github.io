{
  "nbformat": 4,
  "nbformat_minor": 0,
  "metadata": {
    "colab": {
      "name": "1주차과제.ipynb",
      "provenance": [],
      "collapsed_sections": [],
      "authorship_tag": "ABX9TyP5WI4AzL4InANzHvHdcLl6",
      "include_colab_link": true
    },
    "kernelspec": {
      "name": "python3",
      "display_name": "Python 3"
    }
  },
  "cells": [
    {
      "cell_type": "markdown",
      "metadata": {
        "id": "view-in-github",
        "colab_type": "text"
      },
      "source": [
        "<a href=\"https://colab.research.google.com/github/2damny/lee-damin.github.io/blob/master/1%EC%A3%BC%EC%B0%A8%EA%B3%BC%EC%A0%9C.ipynb\" target=\"_parent\"><img src=\"https://colab.research.google.com/assets/colab-badge.svg\" alt=\"Open In Colab\"/></a>"
      ]
    },
    {
      "cell_type": "markdown",
      "metadata": {
        "id": "irywrDRN05ip",
        "colab_type": "text"
      },
      "source": [
        "* **언어 영역** \n",
        "  \n",
        "  네이버 파파고 - 인공신경망 기계번역 서비스<br>\n",
        "  파파고는 기존 번역기와는 다른 네이버 연구소에서 자체 개발한 N2MT(Naver Neural Machine Translation)기술을 사용하고 있다. 기존 번역기는 문장을 번역할 때 일정 단위로 잘라서 번역한 후, 다시 어순에 맞춰 번역하는 형태였지만, N2MT는 분석해야하는 문장을 보고 기존에 비슷한 유형으로 번역했던 결과물과 대조하고 특정 부분에 가중치를 두면서 보다 완벽한 문장을 만들어간다. 이는 기존의 번역보다 더 자연스럽고 매끄러운 결과를 보여주지만, 충분한 학습이 이루어져야 한다.\n",
        "<br><br>\n",
        "\n",
        "* **음성 영역**\n",
        "  \n",
        "  애플 시리(Siri) - 인공지능 개인비서 프로그램<br>\n",
        "  인공지능 개인비서 프로그램(네이버클로바, 아마존알렉사..)은 명령을 내리면 장치가 사용자의 음성을 수집하고 이것을 오디오 파일로 변환한 후, 데이터 센터로 전송하여 단어나 문장의 텍스트로 변환한다. 음성을 수집하는 음성인식기술은 억양, 목소리 크기 등 다양한 음성신호의 특성을 수집하고 군집화해야 하는데 현재 딥러닝 기술을 사용하고 있다.\n",
        "<br><br>\n",
        "\n",
        "* **이미지 영역**\n",
        "\n",
        "  구글 - 구글포토<br>\n",
        "  과거 사진을 저장할 때마다 사용자가 어떤 사진인지 일일이 제목이나 태그를 달아 그것을 기준으로 사진을 분류했다. 하지만 현재 인공지능의 기술중 하나인 딥러닝 기술을 통해 컴퓨터가 이미지를 스스로 분류하거나 태깅할 수 있다. 기존에는 고양이 사진을 컴퓨터가 인지하기 위해 어떠한 평균값을 가지고 이를 기준으로 비교 판단하였다. 하지만 구글은 900만개가 넘는 이미지로 구성된 '오픈 이미지 데이터셋'을 이용해 딥러닝기술을 이용해 공통점을 스스로 찾아내 분류를 해준다.\n",
        "<br><br>\n",
        "\n",
        "* **자율주행 영역**\n",
        "\n",
        "    현대, 기아자동차 - SCC-ML(인공지능 기반 부분 자율주행기술)<br>\n",
        "    인공지능 기술을 기반으로 자동차 스스로 운전자의 주행성향을 파악해 운전자 맞춤형 SCC(스마트 크루즈 컨트롤)를 구현하는 기술이다. 기존 SCC는 차간거리, 가속도 등의 주행패턴을 자동차가 임의로 결정하거나 운전자가 직접 설정해야했지만, SCC-ML은 고객의 주행 성향과 거의 흡사한 패턴으로 자율주행 긴능을 구현한다.\n",
        "    SCC-ML은 인공지능의 머신러닝 알고리즘을 적용해 운전자의 주행 패턴을 파악한다. 차간거리, 가속성, 반응성의 요소로 1만개 이상의 주행패턴을 구분하고 주행한다.\n",
        " <br><br>\n",
        "\n",
        "  \n",
        "\n",
        "1주차 과제를 마무리하면서 제출하는 기능과 서비스 외에도 다양한 영역에서 인공지능이 사용되고 있음을 알았다. 인공지능을 공부하며 다양한 기술들 중 적절한 어드바이스를 제공할 수 있는 프로그램을 만들어 보고 싶다."
      ]
    }
  ]
}